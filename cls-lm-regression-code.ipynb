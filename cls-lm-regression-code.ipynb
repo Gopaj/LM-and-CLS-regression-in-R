{
 "cells": [
  {
   "cell_type": "markdown",
   "id": "6e547d5c",
   "metadata": {},
   "source": [
    "# LM & CLS prediction models"
   ]
  },
  {
   "cell_type": "markdown",
   "id": "c7895d92",
   "metadata": {},
   "source": [
    "### Author: Thomas Nørgaard"
   ]
  },
  {
   "cell_type": "markdown",
   "id": "ca21f86f",
   "metadata": {},
   "source": [
    "## Multiple linear regression"
   ]
  },
  {
   "cell_type": "code",
   "execution_count": 1,
   "id": "baccdd41",
   "metadata": {},
   "outputs": [],
   "source": [
    "# Reading in data.\n",
    "data1 <- read.table(\"PAHI.txt\",header=TRUE)\n",
    "pah <- data1"
   ]
  },
  {
   "cell_type": "code",
   "execution_count": 2,
   "id": "5f70c97c",
   "metadata": {},
   "outputs": [
    {
     "data": {
      "text/html": [
       "'The rank of the matrix is 25'"
      ],
      "text/latex": [
       "'The rank of the matrix is 25'"
      ],
      "text/markdown": [
       "'The rank of the matrix is 25'"
      ],
      "text/plain": [
       "[1] \"The rank of the matrix is 25\""
      ]
     },
     "metadata": {},
     "output_type": "display_data"
    }
   ],
   "source": [
    "# Making the linear model\n",
    "modela1 <- lm(pah[,2] ~ ., data = subset(pah, select=-c(3:11)))\n",
    "\n",
    "# Finding the rank by calling rank on the model using the qr function.\n",
    "paste(\"The rank of the matrix is\",qr(modela1)$rank)"
   ]
  },
  {
   "cell_type": "markdown",
   "id": "bb9980a4",
   "metadata": {},
   "source": [
    "A least squares solution always exists, because  we can always find the projection from y into the subspace."
   ]
  },
  {
   "cell_type": "markdown",
   "id": "9103161c",
   "metadata": {},
   "source": [
    "The least squares solution is not unique, because we have too many vectors for having just a basis and our vectors are not linearly independent. We can write our vectors in several ways and manipulate the beta vector. We have too many vectors/predictor variables and redundant information."
   ]
  },
  {
   "cell_type": "code",
   "execution_count": 3,
   "id": "2bd6fa88",
   "metadata": {},
   "outputs": [
    {
     "data": {
      "text/html": [
       "'The residual sum of squares is 0'"
      ],
      "text/latex": [
       "'The residual sum of squares is 0'"
      ],
      "text/markdown": [
       "'The residual sum of squares is 0'"
      ],
      "text/plain": [
       "[1] \"The residual sum of squares is 0\""
      ]
     },
     "metadata": {},
     "output_type": "display_data"
    }
   ],
   "source": [
    "# Finding the RSS using the deviance function.\n",
    "paste(\"The residual sum of squares is\",(deviance(modela1)))"
   ]
  },
  {
   "cell_type": "markdown",
   "id": "73c929a6",
   "metadata": {},
   "source": [
    "With a RSS of 0, the model is basically a perfect fit. This almost certainly means that we overfit a lot. \n",
    "The overfitting is a result of us having a higher number predictor variables (p = 27) than our rank value (rank = 25)."
   ]
  },
  {
   "cell_type": "markdown",
   "id": "a9f3e288",
   "metadata": {},
   "source": [
    "A potential problem of using multiple linear regression in this situation would be that the model will automatically overfit to become a perfect fit, because our number of variables exceed our rank. This basically makes the model useless, as it cannot tell us anything new."
   ]
  },
  {
   "cell_type": "markdown",
   "id": "ae2d18fc",
   "metadata": {},
   "source": [
    "# Multivariate and multiple linear regression with a restricted number of predictors"
   ]
  },
  {
   "cell_type": "markdown",
   "id": "9f3e4bbe",
   "metadata": {},
   "source": [
    "The feedback mentioned parts 2.5 + 2.6 + 2.7.\n",
    "In order to correct 2.6, we had to make our code work in the predict() function. This meant that we needed to make our lm() differently, without using x and y blocks, but instead subsetting inside the lm() command itself. We also needed to separate our testing data before centering.\n",
    "\n",
    "A main reason our lm() and prediction did not work properly, is that the way we had initially split the data into training and test, made it unable run the lm() correctly. We assume this was due to a mix of matrices, dataframes, doubles, etc, making R unable to use the functions properly.\n",
    "\n",
    "With a model that was not correct, the predict() function mentioned in the feedback could not work properly. \n",
    "\n",
    "Due to these issues, we determined that we needed to do the entire part 2 from scratch. The old code is in the bottom, #'ed out. "
   ]
  },
  {
   "cell_type": "code",
   "execution_count": 4,
   "id": "54428ed4",
   "metadata": {},
   "outputs": [],
   "source": [
    "# Reading in data.\n",
    "data2 <- read.table(\"PAHI.txt\",header=TRUE)\n",
    "pah2 <- data2\n",
    "pah2test <- data2"
   ]
  },
  {
   "cell_type": "code",
   "execution_count": 5,
   "id": "b709366e",
   "metadata": {},
   "outputs": [],
   "source": [
    "# Using scale() to center the data\n",
    "pah2 <- scale(pah2,center=TRUE,scale=FALSE)"
   ]
  },
  {
   "cell_type": "code",
   "execution_count": 6,
   "id": "c80d359d",
   "metadata": {},
   "outputs": [],
   "source": [
    "# Removing the rows, that are not supposed to be in the training set, but will be in the test set.\n",
    "pah2 <- pah2[-c(1,6,17,19,22),]\n",
    "\n",
    "# This variable is used to only pick observations that are integer multiple of 10.\n",
    "int_selector <- seq(12,38,2)"
   ]
  },
  {
   "cell_type": "code",
   "execution_count": 7,
   "id": "6514c2c2",
   "metadata": {},
   "outputs": [],
   "source": [
    "# Fitting the model, using the int_selector to limit the data available to lm() in the pah2 dataset.\n",
    "modela2 <- lm(pah2[,2:11]~.-1, data = as.data.frame(pah2[,int_selector]))"
   ]
  },
  {
   "cell_type": "code",
   "execution_count": 8,
   "id": "a9699146",
   "metadata": {},
   "outputs": [
    {
     "data": {
      "text/html": [
       "'The rank of the matrix is 14'"
      ],
      "text/latex": [
       "'The rank of the matrix is 14'"
      ],
      "text/markdown": [
       "'The rank of the matrix is 14'"
      ],
      "text/plain": [
       "[1] \"The rank of the matrix is 14\""
      ]
     },
     "metadata": {},
     "output_type": "display_data"
    }
   ],
   "source": [
    "# Finding the rank of the design matrix\n",
    "paste(\"The rank of the matrix is\",qr(modela2)$rank)"
   ]
  },
  {
   "cell_type": "markdown",
   "id": "9cc0e9eb",
   "metadata": {},
   "source": [
    "As stated earlier, a least squares solution always exists, because we can always find the projection from y into the subspace.\n",
    "\n",
    "In this case, our rank (14) is the same as our number of predictor variables (14). With them being equal, we have a unique least squares solution."
   ]
  },
  {
   "cell_type": "code",
   "execution_count": 24,
   "id": "7e63768b",
   "metadata": {},
   "outputs": [
    {
     "data": {
      "text/html": [
       "<table>\n",
       "<thead><tr><th></th><th scope=col>Py</th><th scope=col>Ace</th><th scope=col>Anth</th><th scope=col>Acy</th><th scope=col>Chry</th><th scope=col>Benz</th><th scope=col>Fluora</th><th scope=col>Fluore</th><th scope=col>Nap</th><th scope=col>Phen</th></tr></thead>\n",
       "<tbody>\n",
       "\t<tr><th scope=row>x220</th><td> -0.14930340</td><td> 0.07434467 </td><td> 0.02448284 </td><td>  0.07626494</td><td>-0.07362480 </td><td> -0.1787227 </td><td>  0.3728748 </td><td>  0.3684073 </td><td> 1.03239429 </td><td> -0.6622321 </td></tr>\n",
       "\t<tr><th scope=row>x230</th><td> -0.40141759</td><td> 0.26902112 </td><td> 0.23241826 </td><td>  0.14285183</td><td> 0.24639116 </td><td>  0.6842439 </td><td> -1.1429160 </td><td>  0.8646966 </td><td>-1.08265625 </td><td> -0.2150964 </td></tr>\n",
       "\t<tr><th scope=row>x240</th><td>  1.12638456</td><td>-0.86862880 </td><td>-0.61465078 </td><td> -0.84194644</td><td>-0.43239083 </td><td> -1.9936403 </td><td>  1.9561911 </td><td> -2.8404502 </td><td>-0.78298666 </td><td>  1.6063579 </td></tr>\n",
       "\t<tr><th scope=row>x250</th><td>  0.06743632</td><td>-0.00944430 </td><td> 1.71722100 </td><td>  0.48198864</td><td> 0.21057402 </td><td>  0.4270298 </td><td> -0.8219911 </td><td>  0.8928491 </td><td> 0.14188086 </td><td> -2.0897029 </td></tr>\n",
       "\t<tr><th scope=row>x260</th><td> -2.11134443</td><td> 1.48063865 </td><td>-4.33903162 </td><td>  0.26780863</td><td>-0.71807864 </td><td> -0.5136820 </td><td> -0.3661484 </td><td>  0.7151896 </td><td> 0.74675693 </td><td> 13.8773467 </td></tr>\n",
       "\t<tr><th scope=row>x270</th><td>  1.32435449</td><td>-0.66671264 </td><td> 2.97290706 </td><td> -2.14093778</td><td> 3.54085511 </td><td>  1.4336318 </td><td> -2.7232631 </td><td> -0.6763342 </td><td>-0.85355098 </td><td> -9.2936409 </td></tr>\n",
       "\t<tr><th scope=row>x280</th><td>  1.04085635</td><td>-0.50690356 </td><td>-1.87109763 </td><td>  1.60160432</td><td>-1.63818283 </td><td>  2.3457736 </td><td>  1.5176568 </td><td> -4.8971108 </td><td> 0.26267893 </td><td>  3.4949565 </td></tr>\n",
       "\t<tr><th scope=row>x290</th><td> -1.22894106</td><td>-0.49895937 </td><td> 0.93111972 </td><td> -0.24305931</td><td> 0.06007888 </td><td>  0.9239939 </td><td>  0.7443119 </td><td>  3.3630030 </td><td>-0.09409383 </td><td> -2.3799799 </td></tr>\n",
       "\t<tr><th scope=row>x300</th><td>  3.30809532</td><td>-0.75953636 </td><td> 3.26656551 </td><td>  1.73329673</td><td>-4.77205379 </td><td> -3.8604583 </td><td>  5.9326598 </td><td> 22.0491764 </td><td>-1.88503610 </td><td>-14.2447147 </td></tr>\n",
       "\t<tr><th scope=row>x310</th><td>-12.71097835</td><td> 4.14518270 </td><td>-2.71269608 </td><td> -3.89542987</td><td> 5.72615919 </td><td> -0.4879462 </td><td>-10.0251388 </td><td>-32.9899699 </td><td> 3.09457222 </td><td> 15.6504017 </td></tr>\n",
       "\t<tr><th scope=row>x320</th><td>  9.71265564</td><td>-5.94730085 </td><td>-2.67425850 </td><td> 15.42454078</td><td>-5.29856222 </td><td> -9.8001949 </td><td> 26.4132176 </td><td>  9.7258641 </td><td> 0.43002175 </td><td> -0.9096627 </td></tr>\n",
       "\t<tr><th scope=row>x330</th><td>  8.27549529</td><td> 4.63012024 </td><td> 2.47521697 </td><td>-12.34126503</td><td> 1.75372960 </td><td>  7.2434647 </td><td>-26.5880858 </td><td>  9.1606381 </td><td> 5.39488756 </td><td> -4.6567418 </td></tr>\n",
       "\t<tr><th scope=row>x340</th><td>-15.83265704</td><td> 3.17369711 </td><td> 4.16317934 </td><td> -0.42304232</td><td>-0.23321423 </td><td> 17.2306689 </td><td> -3.8273510 </td><td> -3.7290839 </td><td>-5.50486518 </td><td> -4.3188614 </td></tr>\n",
       "\t<tr><th scope=row>x350</th><td> 13.26122156</td><td> 2.74032423 </td><td>-5.23672816 </td><td> -1.19446464</td><td> 2.16114728 </td><td>-17.5981500 </td><td>  9.3290328 </td><td>-10.4194936 </td><td> 2.54556858 </td><td> 11.9847909 </td></tr>\n",
       "</tbody>\n",
       "</table>\n"
      ],
      "text/latex": [
       "\\begin{tabular}{r|llllllllll}\n",
       "  & Py & Ace & Anth & Acy & Chry & Benz & Fluora & Fluore & Nap & Phen\\\\\n",
       "\\hline\n",
       "\tx220 &  -0.14930340 &  0.07434467  &  0.02448284  &   0.07626494 & -0.07362480  &  -0.1787227  &   0.3728748  &   0.3684073  &  1.03239429  &  -0.6622321 \\\\\n",
       "\tx230 &  -0.40141759 &  0.26902112  &  0.23241826  &   0.14285183 &  0.24639116  &   0.6842439  &  -1.1429160  &   0.8646966  & -1.08265625  &  -0.2150964 \\\\\n",
       "\tx240 &   1.12638456 & -0.86862880  & -0.61465078  &  -0.84194644 & -0.43239083  &  -1.9936403  &   1.9561911  &  -2.8404502  & -0.78298666  &   1.6063579 \\\\\n",
       "\tx250 &   0.06743632 & -0.00944430  &  1.71722100  &   0.48198864 &  0.21057402  &   0.4270298  &  -0.8219911  &   0.8928491  &  0.14188086  &  -2.0897029 \\\\\n",
       "\tx260 &  -2.11134443 &  1.48063865  & -4.33903162  &   0.26780863 & -0.71807864  &  -0.5136820  &  -0.3661484  &   0.7151896  &  0.74675693  &  13.8773467 \\\\\n",
       "\tx270 &   1.32435449 & -0.66671264  &  2.97290706  &  -2.14093778 &  3.54085511  &   1.4336318  &  -2.7232631  &  -0.6763342  & -0.85355098  &  -9.2936409 \\\\\n",
       "\tx280 &   1.04085635 & -0.50690356  & -1.87109763  &   1.60160432 & -1.63818283  &   2.3457736  &   1.5176568  &  -4.8971108  &  0.26267893  &   3.4949565 \\\\\n",
       "\tx290 &  -1.22894106 & -0.49895937  &  0.93111972  &  -0.24305931 &  0.06007888  &   0.9239939  &   0.7443119  &   3.3630030  & -0.09409383  &  -2.3799799 \\\\\n",
       "\tx300 &   3.30809532 & -0.75953636  &  3.26656551  &   1.73329673 & -4.77205379  &  -3.8604583  &   5.9326598  &  22.0491764  & -1.88503610  & -14.2447147 \\\\\n",
       "\tx310 & -12.71097835 &  4.14518270  & -2.71269608  &  -3.89542987 &  5.72615919  &  -0.4879462  & -10.0251388  & -32.9899699  &  3.09457222  &  15.6504017 \\\\\n",
       "\tx320 &   9.71265564 & -5.94730085  & -2.67425850  &  15.42454078 & -5.29856222  &  -9.8001949  &  26.4132176  &   9.7258641  &  0.43002175  &  -0.9096627 \\\\\n",
       "\tx330 &   8.27549529 &  4.63012024  &  2.47521697  & -12.34126503 &  1.75372960  &   7.2434647  & -26.5880858  &   9.1606381  &  5.39488756  &  -4.6567418 \\\\\n",
       "\tx340 & -15.83265704 &  3.17369711  &  4.16317934  &  -0.42304232 & -0.23321423  &  17.2306689  &  -3.8273510  &  -3.7290839  & -5.50486518  &  -4.3188614 \\\\\n",
       "\tx350 &  13.26122156 &  2.74032423  & -5.23672816  &  -1.19446464 &  2.16114728  & -17.5981500  &   9.3290328  & -10.4194936  &  2.54556858  &  11.9847909 \\\\\n",
       "\\end{tabular}\n"
      ],
      "text/markdown": [
       "\n",
       "| <!--/--> | Py | Ace | Anth | Acy | Chry | Benz | Fluora | Fluore | Nap | Phen |\n",
       "|---|---|---|---|---|---|---|---|---|---|---|\n",
       "| x220 |  -0.14930340 |  0.07434467  |  0.02448284  |   0.07626494 | -0.07362480  |  -0.1787227  |   0.3728748  |   0.3684073  |  1.03239429  |  -0.6622321  |\n",
       "| x230 |  -0.40141759 |  0.26902112  |  0.23241826  |   0.14285183 |  0.24639116  |   0.6842439  |  -1.1429160  |   0.8646966  | -1.08265625  |  -0.2150964  |\n",
       "| x240 |   1.12638456 | -0.86862880  | -0.61465078  |  -0.84194644 | -0.43239083  |  -1.9936403  |   1.9561911  |  -2.8404502  | -0.78298666  |   1.6063579  |\n",
       "| x250 |   0.06743632 | -0.00944430  |  1.71722100  |   0.48198864 |  0.21057402  |   0.4270298  |  -0.8219911  |   0.8928491  |  0.14188086  |  -2.0897029  |\n",
       "| x260 |  -2.11134443 |  1.48063865  | -4.33903162  |   0.26780863 | -0.71807864  |  -0.5136820  |  -0.3661484  |   0.7151896  |  0.74675693  |  13.8773467  |\n",
       "| x270 |   1.32435449 | -0.66671264  |  2.97290706  |  -2.14093778 |  3.54085511  |   1.4336318  |  -2.7232631  |  -0.6763342  | -0.85355098  |  -9.2936409  |\n",
       "| x280 |   1.04085635 | -0.50690356  | -1.87109763  |   1.60160432 | -1.63818283  |   2.3457736  |   1.5176568  |  -4.8971108  |  0.26267893  |   3.4949565  |\n",
       "| x290 |  -1.22894106 | -0.49895937  |  0.93111972  |  -0.24305931 |  0.06007888  |   0.9239939  |   0.7443119  |   3.3630030  | -0.09409383  |  -2.3799799  |\n",
       "| x300 |   3.30809532 | -0.75953636  |  3.26656551  |   1.73329673 | -4.77205379  |  -3.8604583  |   5.9326598  |  22.0491764  | -1.88503610  | -14.2447147  |\n",
       "| x310 | -12.71097835 |  4.14518270  | -2.71269608  |  -3.89542987 |  5.72615919  |  -0.4879462  | -10.0251388  | -32.9899699  |  3.09457222  |  15.6504017  |\n",
       "| x320 |   9.71265564 | -5.94730085  | -2.67425850  |  15.42454078 | -5.29856222  |  -9.8001949  |  26.4132176  |   9.7258641  |  0.43002175  |  -0.9096627  |\n",
       "| x330 |   8.27549529 |  4.63012024  |  2.47521697  | -12.34126503 |  1.75372960  |   7.2434647  | -26.5880858  |   9.1606381  |  5.39488756  |  -4.6567418  |\n",
       "| x340 | -15.83265704 |  3.17369711  |  4.16317934  |  -0.42304232 | -0.23321423  |  17.2306689  |  -3.8273510  |  -3.7290839  | -5.50486518  |  -4.3188614  |\n",
       "| x350 |  13.26122156 |  2.74032423  | -5.23672816  |  -1.19446464 |  2.16114728  | -17.5981500  |   9.3290328  | -10.4194936  |  2.54556858  |  11.9847909  |\n",
       "\n"
      ],
      "text/plain": [
       "     Py           Ace         Anth        Acy          Chry        Benz       \n",
       "x220  -0.14930340  0.07434467  0.02448284   0.07626494 -0.07362480  -0.1787227\n",
       "x230  -0.40141759  0.26902112  0.23241826   0.14285183  0.24639116   0.6842439\n",
       "x240   1.12638456 -0.86862880 -0.61465078  -0.84194644 -0.43239083  -1.9936403\n",
       "x250   0.06743632 -0.00944430  1.71722100   0.48198864  0.21057402   0.4270298\n",
       "x260  -2.11134443  1.48063865 -4.33903162   0.26780863 -0.71807864  -0.5136820\n",
       "x270   1.32435449 -0.66671264  2.97290706  -2.14093778  3.54085511   1.4336318\n",
       "x280   1.04085635 -0.50690356 -1.87109763   1.60160432 -1.63818283   2.3457736\n",
       "x290  -1.22894106 -0.49895937  0.93111972  -0.24305931  0.06007888   0.9239939\n",
       "x300   3.30809532 -0.75953636  3.26656551   1.73329673 -4.77205379  -3.8604583\n",
       "x310 -12.71097835  4.14518270 -2.71269608  -3.89542987  5.72615919  -0.4879462\n",
       "x320   9.71265564 -5.94730085 -2.67425850  15.42454078 -5.29856222  -9.8001949\n",
       "x330   8.27549529  4.63012024  2.47521697 -12.34126503  1.75372960   7.2434647\n",
       "x340 -15.83265704  3.17369711  4.16317934  -0.42304232 -0.23321423  17.2306689\n",
       "x350  13.26122156  2.74032423 -5.23672816  -1.19446464  2.16114728 -17.5981500\n",
       "     Fluora      Fluore      Nap         Phen       \n",
       "x220   0.3728748   0.3684073  1.03239429  -0.6622321\n",
       "x230  -1.1429160   0.8646966 -1.08265625  -0.2150964\n",
       "x240   1.9561911  -2.8404502 -0.78298666   1.6063579\n",
       "x250  -0.8219911   0.8928491  0.14188086  -2.0897029\n",
       "x260  -0.3661484   0.7151896  0.74675693  13.8773467\n",
       "x270  -2.7232631  -0.6763342 -0.85355098  -9.2936409\n",
       "x280   1.5176568  -4.8971108  0.26267893   3.4949565\n",
       "x290   0.7443119   3.3630030 -0.09409383  -2.3799799\n",
       "x300   5.9326598  22.0491764 -1.88503610 -14.2447147\n",
       "x310 -10.0251388 -32.9899699  3.09457222  15.6504017\n",
       "x320  26.4132176   9.7258641  0.43002175  -0.9096627\n",
       "x330 -26.5880858   9.1606381  5.39488756  -4.6567418\n",
       "x340  -3.8273510  -3.7290839 -5.50486518  -4.3188614\n",
       "x350   9.3290328 -10.4194936  2.54556858  11.9847909"
      ]
     },
     "metadata": {},
     "output_type": "display_data"
    }
   ],
   "source": [
    "# Estimating the coefficients of the model.\n",
    "modela2$coefficients"
   ]
  },
  {
   "cell_type": "code",
   "execution_count": 10,
   "id": "67f5d352",
   "metadata": {},
   "outputs": [
    {
     "data": {
      "text/html": [
       "<dl class=dl-horizontal>\n",
       "\t<dt>Py</dt>\n",
       "\t\t<dd>0.0601731467647676</dd>\n",
       "\t<dt>Ace</dt>\n",
       "\t\t<dd>0.0743407115141682</dd>\n",
       "\t<dt>Anth</dt>\n",
       "\t\t<dd>0.0202522497341119</dd>\n",
       "\t<dt>Acy</dt>\n",
       "\t\t<dd>0.0553698892605009</dd>\n",
       "\t<dt>Chry</dt>\n",
       "\t\t<dd>0.00980269098559937</dd>\n",
       "\t<dt>Benz</dt>\n",
       "\t\t<dd>0.0485215942370758</dd>\n",
       "\t<dt>Fluora</dt>\n",
       "\t\t<dd>0.0303182414470409</dd>\n",
       "\t<dt>Fluore</dt>\n",
       "\t\t<dd>0.0748833454061967</dd>\n",
       "\t<dt>Nap</dt>\n",
       "\t\t<dd>0.0233023397451102</dd>\n",
       "\t<dt>Phen</dt>\n",
       "\t\t<dd>0.0406722126932099</dd>\n",
       "</dl>\n"
      ],
      "text/latex": [
       "\\begin{description*}\n",
       "\\item[Py] 0.0601731467647676\n",
       "\\item[Ace] 0.0743407115141682\n",
       "\\item[Anth] 0.0202522497341119\n",
       "\\item[Acy] 0.0553698892605009\n",
       "\\item[Chry] 0.00980269098559937\n",
       "\\item[Benz] 0.0485215942370758\n",
       "\\item[Fluora] 0.0303182414470409\n",
       "\\item[Fluore] 0.0748833454061967\n",
       "\\item[Nap] 0.0233023397451102\n",
       "\\item[Phen] 0.0406722126932099\n",
       "\\end{description*}\n"
      ],
      "text/markdown": [
       "Py\n",
       ":   0.0601731467647676Ace\n",
       ":   0.0743407115141682Anth\n",
       ":   0.0202522497341119Acy\n",
       ":   0.0553698892605009Chry\n",
       ":   0.00980269098559937Benz\n",
       ":   0.0485215942370758Fluora\n",
       ":   0.0303182414470409Fluore\n",
       ":   0.0748833454061967Nap\n",
       ":   0.0233023397451102Phen\n",
       ":   0.0406722126932099\n",
       "\n"
      ],
      "text/plain": [
       "         Py         Ace        Anth         Acy        Chry        Benz \n",
       "0.060173147 0.074340712 0.020252250 0.055369889 0.009802691 0.048521594 \n",
       "     Fluora      Fluore         Nap        Phen \n",
       "0.030318241 0.074883345 0.023302340 0.040672213 "
      ]
     },
     "metadata": {},
     "output_type": "display_data"
    }
   ],
   "source": [
    "# Estimating the standard deviation using the sigma() function.\n",
    "sigma(modela2)"
   ]
  },
  {
   "cell_type": "code",
   "execution_count": 11,
   "id": "9155905b",
   "metadata": {},
   "outputs": [
    {
     "data": {
      "text/html": [
       "<table>\n",
       "<thead><tr><th></th><th scope=col>Py</th><th scope=col>Ace</th><th scope=col>Anth</th><th scope=col>Acy</th><th scope=col>Chry</th><th scope=col>Benz</th><th scope=col>Fluora</th><th scope=col>Fluore</th><th scope=col>Nap</th><th scope=col>Phen</th></tr></thead>\n",
       "<tbody>\n",
       "\t<tr><th scope=row>1</th><td>0.29416898  </td><td> 0.042182012</td><td>0.1686285   </td><td>0.1994724   </td><td>0.3126379   </td><td>1.8650117   </td><td>0.20489698  </td><td>0.7951271   </td><td> 0.02561639 </td><td>0.4133380   </td></tr>\n",
       "\t<tr><th scope=row>6</th><td>0.39896078  </td><td>-0.048349013</td><td>0.1745521   </td><td>0.1611428   </td><td>0.3830086   </td><td>2.3841348   </td><td>0.18353904  </td><td>1.0947763   </td><td> 0.04985427 </td><td>0.6874559   </td></tr>\n",
       "\t<tr><th scope=row>17</th><td>0.01106472  </td><td> 0.041826024</td><td>0.0554367   </td><td>0.1212910   </td><td>0.4003510   </td><td>1.2028930   </td><td>0.14627445  </td><td>1.0671226   </td><td> 0.02213290 </td><td>0.4321244   </td></tr>\n",
       "\t<tr><th scope=row>19</th><td>0.12555903  </td><td> 0.032294384</td><td>0.2250922   </td><td>0.1705583   </td><td>0.1643319   </td><td>2.7685813   </td><td>0.09917329  </td><td>0.6568584   </td><td>-0.02407923 </td><td>0.7190332   </td></tr>\n",
       "\t<tr><th scope=row>22</th><td>0.15754532  </td><td> 0.006704391</td><td>0.2293326   </td><td>0.1868290   </td><td>0.2493634   </td><td>0.6780484   </td><td>0.37067965  </td><td>1.1023818   </td><td> 0.03689930 </td><td>0.8447382   </td></tr>\n",
       "</tbody>\n",
       "</table>\n"
      ],
      "text/latex": [
       "\\begin{tabular}{r|llllllllll}\n",
       "  & Py & Ace & Anth & Acy & Chry & Benz & Fluora & Fluore & Nap & Phen\\\\\n",
       "\\hline\n",
       "\t1 & 0.29416898   &  0.042182012 & 0.1686285    & 0.1994724    & 0.3126379    & 1.8650117    & 0.20489698   & 0.7951271    &  0.02561639  & 0.4133380   \\\\\n",
       "\t6 & 0.39896078   & -0.048349013 & 0.1745521    & 0.1611428    & 0.3830086    & 2.3841348    & 0.18353904   & 1.0947763    &  0.04985427  & 0.6874559   \\\\\n",
       "\t17 & 0.01106472   &  0.041826024 & 0.0554367    & 0.1212910    & 0.4003510    & 1.2028930    & 0.14627445   & 1.0671226    &  0.02213290  & 0.4321244   \\\\\n",
       "\t19 & 0.12555903   &  0.032294384 & 0.2250922    & 0.1705583    & 0.1643319    & 2.7685813    & 0.09917329   & 0.6568584    & -0.02407923  & 0.7190332   \\\\\n",
       "\t22 & 0.15754532   &  0.006704391 & 0.2293326    & 0.1868290    & 0.2493634    & 0.6780484    & 0.37067965   & 1.1023818    &  0.03689930  & 0.8447382   \\\\\n",
       "\\end{tabular}\n"
      ],
      "text/markdown": [
       "\n",
       "| <!--/--> | Py | Ace | Anth | Acy | Chry | Benz | Fluora | Fluore | Nap | Phen |\n",
       "|---|---|---|---|---|---|---|---|---|---|---|\n",
       "| 1 | 0.29416898   |  0.042182012 | 0.1686285    | 0.1994724    | 0.3126379    | 1.8650117    | 0.20489698   | 0.7951271    |  0.02561639  | 0.4133380    |\n",
       "| 6 | 0.39896078   | -0.048349013 | 0.1745521    | 0.1611428    | 0.3830086    | 2.3841348    | 0.18353904   | 1.0947763    |  0.04985427  | 0.6874559    |\n",
       "| 17 | 0.01106472   |  0.041826024 | 0.0554367    | 0.1212910    | 0.4003510    | 1.2028930    | 0.14627445   | 1.0671226    |  0.02213290  | 0.4321244    |\n",
       "| 19 | 0.12555903   |  0.032294384 | 0.2250922    | 0.1705583    | 0.1643319    | 2.7685813    | 0.09917329   | 0.6568584    | -0.02407923  | 0.7190332    |\n",
       "| 22 | 0.15754532   |  0.006704391 | 0.2293326    | 0.1868290    | 0.2493634    | 0.6780484    | 0.37067965   | 1.1023818    |  0.03689930  | 0.8447382    |\n",
       "\n"
      ],
      "text/plain": [
       "   Py         Ace          Anth      Acy       Chry      Benz      Fluora    \n",
       "1  0.29416898  0.042182012 0.1686285 0.1994724 0.3126379 1.8650117 0.20489698\n",
       "6  0.39896078 -0.048349013 0.1745521 0.1611428 0.3830086 2.3841348 0.18353904\n",
       "17 0.01106472  0.041826024 0.0554367 0.1212910 0.4003510 1.2028930 0.14627445\n",
       "19 0.12555903  0.032294384 0.2250922 0.1705583 0.1643319 2.7685813 0.09917329\n",
       "22 0.15754532  0.006704391 0.2293326 0.1868290 0.2493634 0.6780484 0.37067965\n",
       "   Fluore    Nap         Phen     \n",
       "1  0.7951271  0.02561639 0.4133380\n",
       "6  1.0947763  0.04985427 0.6874559\n",
       "17 1.0671226  0.02213290 0.4321244\n",
       "19 0.6568584 -0.02407923 0.7190332\n",
       "22 1.1023818  0.03689930 0.8447382"
      ]
     },
     "metadata": {},
     "output_type": "display_data"
    }
   ],
   "source": [
    "# Making the prediction on the test data, using the predict() function.\n",
    "prediction <- predict(modela2, newdata = as.data.frame(pah2test[c(1,6,17,19,22),]))\n",
    "prediction"
   ]
  },
  {
   "cell_type": "code",
   "execution_count": 12,
   "id": "88822ed8",
   "metadata": {},
   "outputs": [
    {
     "data": {
      "text/html": [
       "<dl class=dl-horizontal>\n",
       "\t<dt>Py</dt>\n",
       "\t\t<dd>0.0223795049708643</dd>\n",
       "\t<dt>Ace</dt>\n",
       "\t\t<dd>0.016450929047628</dd>\n",
       "\t<dt>Anth</dt>\n",
       "\t\t<dd>0.000522403664789312</dd>\n",
       "\t<dt>Acy</dt>\n",
       "\t\t<dd>0.00650298551003752</dd>\n",
       "\t<dt>Chry</dt>\n",
       "\t\t<dd>0.00362125635925967</dd>\n",
       "\t<dt>Benz</dt>\n",
       "\t\t<dd>0.029826118407214</dd>\n",
       "\t<dt>Fluora</dt>\n",
       "\t\t<dd>0.0123404826461349</dd>\n",
       "\t<dt>Fluore</dt>\n",
       "\t\t<dd>0.0286375958826755</dd>\n",
       "\t<dt>Nap</dt>\n",
       "\t\t<dd>0.00728744462653437</dd>\n",
       "\t<dt>Phen</dt>\n",
       "\t\t<dd>0.0323539734209463</dd>\n",
       "</dl>\n"
      ],
      "text/latex": [
       "\\begin{description*}\n",
       "\\item[Py] 0.0223795049708643\n",
       "\\item[Ace] 0.016450929047628\n",
       "\\item[Anth] 0.000522403664789312\n",
       "\\item[Acy] 0.00650298551003752\n",
       "\\item[Chry] 0.00362125635925967\n",
       "\\item[Benz] 0.029826118407214\n",
       "\\item[Fluora] 0.0123404826461349\n",
       "\\item[Fluore] 0.0286375958826755\n",
       "\\item[Nap] 0.00728744462653437\n",
       "\\item[Phen] 0.0323539734209463\n",
       "\\end{description*}\n"
      ],
      "text/markdown": [
       "Py\n",
       ":   0.0223795049708643Ace\n",
       ":   0.016450929047628Anth\n",
       ":   0.000522403664789312Acy\n",
       ":   0.00650298551003752Chry\n",
       ":   0.00362125635925967Benz\n",
       ":   0.029826118407214Fluora\n",
       ":   0.0123404826461349Fluore\n",
       ":   0.0286375958826755Nap\n",
       ":   0.00728744462653437Phen\n",
       ":   0.0323539734209463\n",
       "\n"
      ],
      "text/plain": [
       "          Py          Ace         Anth          Acy         Chry         Benz \n",
       "0.0223795050 0.0164509290 0.0005224037 0.0065029855 0.0036212564 0.0298261184 \n",
       "      Fluora       Fluore          Nap         Phen \n",
       "0.0123404826 0.0286375959 0.0072874446 0.0323539734 "
      ]
     },
     "metadata": {},
     "output_type": "display_data"
    }
   ],
   "source": [
    "# Finding the mean squares error using the apply() function to make the calculation.\n",
    "MSE_MLR <- apply((pah2test[c(1,6,17,19,22),2:11] - prediction)^2,2,mean)\n",
    "MSE_MLR"
   ]
  },
  {
   "cell_type": "markdown",
   "id": "02c71059",
   "metadata": {},
   "source": [
    "# Classical least squares using all available predictors"
   ]
  },
  {
   "cell_type": "markdown",
   "id": "1c212ed5",
   "metadata": {},
   "source": [
    "The feedback mentioned parts 3.1 + 3.2 + 3.3. This is pretty much the entire CLS part, which made us determine again to do from scratch, now also using the knowledge we had gained from redoing part 2. We had made the same mistakes with data preparation, which meant redoing the entire part was the best solution. \n",
    "\n",
    "The old code can be found in the bottom, #'ed out. "
   ]
  },
  {
   "cell_type": "code",
   "execution_count": 13,
   "id": "7e3c91e1",
   "metadata": {},
   "outputs": [],
   "source": [
    "# Reading in data.\n",
    "data3 <- read.table(\"PAHI.txt\",header=TRUE)\n",
    "pah3 <- data3\n",
    "pah3test <- data3"
   ]
  },
  {
   "cell_type": "code",
   "execution_count": 14,
   "id": "a30fcf5b",
   "metadata": {},
   "outputs": [],
   "source": [
    "# Using scale() to center the data\n",
    "pah3 <- scale(pah3,center=TRUE,scale=FALSE)"
   ]
  },
  {
   "cell_type": "code",
   "execution_count": 15,
   "id": "a00e14eb",
   "metadata": {},
   "outputs": [],
   "source": [
    "# Removing the rows, that are not supposed to be in the training set, but will be in the test set.\n",
    "pah3 <- pah3[-c(1,6,17,19,22),]"
   ]
  },
  {
   "cell_type": "code",
   "execution_count": 16,
   "id": "3afece5b",
   "metadata": {},
   "outputs": [],
   "source": [
    "# Fitting the model\n",
    "modela3 <- lm(pah3[,12:38]~.-1, data = as.data.frame(pah3[,2:11]))"
   ]
  },
  {
   "cell_type": "code",
   "execution_count": 17,
   "id": "aa729c95",
   "metadata": {},
   "outputs": [
    {
     "data": {
      "text/html": [
       "<table>\n",
       "<thead><tr><th></th><th scope=col>x220</th><th scope=col>x225</th><th scope=col>x230</th><th scope=col>x235</th><th scope=col>x240</th><th scope=col>x245</th><th scope=col>x250</th><th scope=col>x255</th><th scope=col>x260</th><th scope=col>x265</th><th scope=col>...</th><th scope=col>x305</th><th scope=col>x310</th><th scope=col>x315</th><th scope=col>x320</th><th scope=col>x325</th><th scope=col>x330</th><th scope=col>x335</th><th scope=col>x340</th><th scope=col>x345</th><th scope=col>x350</th></tr></thead>\n",
       "<tbody>\n",
       "\t<tr><th scope=row>Py</th><td>-0.01986882  </td><td> 0.051162285 </td><td> 0.12932753  </td><td> 0.16545072  </td><td> 0.26791466  </td><td> 0.13562661  </td><td>0.009324648  </td><td> 0.02320601  </td><td> 0.06194967  </td><td> 0.07348786  </td><td>...          </td><td> 0.038752187 </td><td> 0.043694027 </td><td> 7.398011e-02</td><td> 0.125070484 </td><td> 0.070351082 </td><td> 0.104594965 </td><td> 0.193919483 </td><td> 0.060963631 </td><td> 0.010031424 </td><td> 0.007490962 </td></tr>\n",
       "\t<tr><th scope=row>Ace</th><td> 0.32239837  </td><td> 0.681525019 </td><td> 0.49206925  </td><td> 0.08824934  </td><td>-0.02103315  </td><td> 0.03178691  </td><td>0.101814640  </td><td> 0.12159589  </td><td> 0.12888079  </td><td> 0.12092200  </td><td>...          </td><td> 0.113576762 </td><td> 0.096139969 </td><td> 6.846189e-02</td><td> 0.048694113 </td><td> 0.052007978 </td><td> 0.031900930 </td><td> 0.001243610 </td><td> 0.036473354 </td><td> 0.040870798 </td><td> 0.044598916 </td></tr>\n",
       "\t<tr><th scope=row>Anth</th><td> 0.00690426  </td><td>-0.061213146 </td><td>-0.11876708  </td><td> 0.14318982  </td><td> 0.32823445  </td><td> 0.67161524  </td><td>0.960704515  </td><td> 0.89960123  </td><td> 0.15304079  </td><td> 0.05658048  </td><td>...          </td><td> 0.013146575 </td><td> 0.006423891 </td><td>-1.881155e-07</td><td>-0.003446487 </td><td> 0.003783866 </td><td> 0.005154708 </td><td> 0.023981022 </td><td> 0.030631692 </td><td> 0.023438387 </td><td> 0.027721888 </td></tr>\n",
       "\t<tr><th scope=row>Acy</th><td> 0.58417989  </td><td> 0.823188335 </td><td> 0.86526462  </td><td> 0.48137662  </td><td> 0.22321112  </td><td> 0.11854579  </td><td>0.118900976  </td><td> 0.09319306  </td><td> 0.10523205  </td><td> 0.11234813  </td><td>...          </td><td> 0.115678451 </td><td> 0.128722665 </td><td> 1.368175e-01</td><td> 0.155886274 </td><td> 0.139053865 </td><td> 0.097300062 </td><td> 0.083749574 </td><td> 0.058971557 </td><td> 0.014871387 </td><td> 0.013253261 </td></tr>\n",
       "\t<tr><th scope=row>Chry</th><td> 0.22020513  </td><td> 0.214183357 </td><td> 0.17950716  </td><td> 0.12490871  </td><td> 0.11005657  </td><td> 0.12722903  </td><td>0.188689554  </td><td> 0.29580682  </td><td> 0.37921669  </td><td> 0.47747247  </td><td>...          </td><td> 0.098721229 </td><td> 0.081592343 </td><td> 6.840282e-02</td><td> 0.074866521 </td><td> 0.043543211 </td><td> 0.018301151 </td><td> 0.011456374 </td><td> 0.010486057 </td><td> 0.008818607 </td><td> 0.007517705 </td></tr>\n",
       "\t<tr><th scope=row>Benz</th><td> 0.17743732  </td><td> 0.170711725 </td><td> 0.14576581  </td><td> 0.09717913  </td><td> 0.08666005  </td><td> 0.10985165  </td><td>0.140834507  </td><td> 0.15666244  </td><td> 0.13820579  </td><td> 0.14411225  </td><td>...          </td><td> 0.020492905 </td><td> 0.019926425 </td><td> 2.137696e-02</td><td> 0.020065215 </td><td> 0.026393683 </td><td> 0.026103543 </td><td> 0.022204808 </td><td> 0.029695964 </td><td> 0.028429739 </td><td> 0.020402657 </td></tr>\n",
       "\t<tr><th scope=row>Fluora</th><td> 0.16595385  </td><td> 0.085304121 </td><td> 0.08827611  </td><td> 0.30239989  </td><td> 0.30446513  </td><td> 0.23079431  </td><td>0.236575352  </td><td> 0.26348638  </td><td> 0.28079213  </td><td> 0.33418127  </td><td>...          </td><td> 0.160994996 </td><td> 0.115205407 </td><td> 8.367019e-02</td><td> 0.073167266 </td><td> 0.048477785 </td><td> 0.049677800 </td><td> 0.073340124 </td><td> 0.060489729 </td><td> 0.057425778 </td><td> 0.053869233 </td></tr>\n",
       "\t<tr><th scope=row>Fluore</th><td> 0.14498886  </td><td> 0.105527514 </td><td> 0.05952847  </td><td> 0.04460454  </td><td> 0.02201679  </td><td> 0.03678084  </td><td>0.056460248  </td><td> 0.08252713  </td><td> 0.09418655  </td><td> 0.09975540  </td><td>...          </td><td> 0.001523734 </td><td>-0.012112022 </td><td>-8.966677e-03</td><td>-0.003744121 </td><td>-0.004084415 </td><td>-0.003799349 </td><td>-0.004979473 </td><td>-0.003498652 </td><td>-0.003050442 </td><td>-0.004240759 </td></tr>\n",
       "\t<tr><th scope=row>Nap</th><td> 0.50997837  </td><td>-0.013594981 </td><td>-0.25189075  </td><td>-0.14001066  </td><td>-0.07251315  </td><td>-0.04417309  </td><td>0.017034640  </td><td>-0.05832411  </td><td>-0.06925921  </td><td>-0.05809800  </td><td>...          </td><td>-0.074463238 </td><td>-0.043540031 </td><td>-2.775811e-02</td><td>-0.009745887 </td><td>-0.006312022 </td><td>-0.001139070 </td><td>-0.003856390 </td><td>-0.012266646 </td><td>-0.012809202 </td><td>-0.016081084 </td></tr>\n",
       "\t<tr><th scope=row>Phen</th><td> 0.08066813  </td><td> 0.005026241 </td><td> 0.02435548  </td><td> 0.10047803  </td><td> 0.18267612  </td><td> 0.28891668  </td><td>0.349403840  </td><td> 0.28640721  </td><td> 0.15468849  </td><td> 0.08942633  </td><td>...          </td><td>-0.006671681 </td><td>-0.004243687 </td><td>-1.305302e-03</td><td> 0.001218607 </td><td> 0.001466440 </td><td> 0.001148910 </td><td> 0.001595926 </td><td> 0.004161040 </td><td> 0.003778133 </td><td> 0.001275208 </td></tr>\n",
       "</tbody>\n",
       "</table>\n"
      ],
      "text/latex": [
       "\\begin{tabular}{r|lllllllllllllllllllllllllll}\n",
       "  & x220 & x225 & x230 & x235 & x240 & x245 & x250 & x255 & x260 & x265 & ... & x305 & x310 & x315 & x320 & x325 & x330 & x335 & x340 & x345 & x350\\\\\n",
       "\\hline\n",
       "\tPy & -0.01986882   &  0.051162285  &  0.12932753   &  0.16545072   &  0.26791466   &  0.13562661   & 0.009324648   &  0.02320601   &  0.06194967   &  0.07348786   & ...           &  0.038752187  &  0.043694027  &  7.398011e-02 &  0.125070484  &  0.070351082  &  0.104594965  &  0.193919483  &  0.060963631  &  0.010031424  &  0.007490962 \\\\\n",
       "\tAce &  0.32239837   &  0.681525019  &  0.49206925   &  0.08824934   & -0.02103315   &  0.03178691   & 0.101814640   &  0.12159589   &  0.12888079   &  0.12092200   & ...           &  0.113576762  &  0.096139969  &  6.846189e-02 &  0.048694113  &  0.052007978  &  0.031900930  &  0.001243610  &  0.036473354  &  0.040870798  &  0.044598916 \\\\\n",
       "\tAnth &  0.00690426   & -0.061213146  & -0.11876708   &  0.14318982   &  0.32823445   &  0.67161524   & 0.960704515   &  0.89960123   &  0.15304079   &  0.05658048   & ...           &  0.013146575  &  0.006423891  & -1.881155e-07 & -0.003446487  &  0.003783866  &  0.005154708  &  0.023981022  &  0.030631692  &  0.023438387  &  0.027721888 \\\\\n",
       "\tAcy &  0.58417989   &  0.823188335  &  0.86526462   &  0.48137662   &  0.22321112   &  0.11854579   & 0.118900976   &  0.09319306   &  0.10523205   &  0.11234813   & ...           &  0.115678451  &  0.128722665  &  1.368175e-01 &  0.155886274  &  0.139053865  &  0.097300062  &  0.083749574  &  0.058971557  &  0.014871387  &  0.013253261 \\\\\n",
       "\tChry &  0.22020513   &  0.214183357  &  0.17950716   &  0.12490871   &  0.11005657   &  0.12722903   & 0.188689554   &  0.29580682   &  0.37921669   &  0.47747247   & ...           &  0.098721229  &  0.081592343  &  6.840282e-02 &  0.074866521  &  0.043543211  &  0.018301151  &  0.011456374  &  0.010486057  &  0.008818607  &  0.007517705 \\\\\n",
       "\tBenz &  0.17743732   &  0.170711725  &  0.14576581   &  0.09717913   &  0.08666005   &  0.10985165   & 0.140834507   &  0.15666244   &  0.13820579   &  0.14411225   & ...           &  0.020492905  &  0.019926425  &  2.137696e-02 &  0.020065215  &  0.026393683  &  0.026103543  &  0.022204808  &  0.029695964  &  0.028429739  &  0.020402657 \\\\\n",
       "\tFluora &  0.16595385   &  0.085304121  &  0.08827611   &  0.30239989   &  0.30446513   &  0.23079431   & 0.236575352   &  0.26348638   &  0.28079213   &  0.33418127   & ...           &  0.160994996  &  0.115205407  &  8.367019e-02 &  0.073167266  &  0.048477785  &  0.049677800  &  0.073340124  &  0.060489729  &  0.057425778  &  0.053869233 \\\\\n",
       "\tFluore &  0.14498886   &  0.105527514  &  0.05952847   &  0.04460454   &  0.02201679   &  0.03678084   & 0.056460248   &  0.08252713   &  0.09418655   &  0.09975540   & ...           &  0.001523734  & -0.012112022  & -8.966677e-03 & -0.003744121  & -0.004084415  & -0.003799349  & -0.004979473  & -0.003498652  & -0.003050442  & -0.004240759 \\\\\n",
       "\tNap &  0.50997837   & -0.013594981  & -0.25189075   & -0.14001066   & -0.07251315   & -0.04417309   & 0.017034640   & -0.05832411   & -0.06925921   & -0.05809800   & ...           & -0.074463238  & -0.043540031  & -2.775811e-02 & -0.009745887  & -0.006312022  & -0.001139070  & -0.003856390  & -0.012266646  & -0.012809202  & -0.016081084 \\\\\n",
       "\tPhen &  0.08066813   &  0.005026241  &  0.02435548   &  0.10047803   &  0.18267612   &  0.28891668   & 0.349403840   &  0.28640721   &  0.15468849   &  0.08942633   & ...           & -0.006671681  & -0.004243687  & -1.305302e-03 &  0.001218607  &  0.001466440  &  0.001148910  &  0.001595926  &  0.004161040  &  0.003778133  &  0.001275208 \\\\\n",
       "\\end{tabular}\n"
      ],
      "text/markdown": [
       "\n",
       "| <!--/--> | x220 | x225 | x230 | x235 | x240 | x245 | x250 | x255 | x260 | x265 | ... | x305 | x310 | x315 | x320 | x325 | x330 | x335 | x340 | x345 | x350 |\n",
       "|---|---|---|---|---|---|---|---|---|---|---|---|---|---|---|---|---|---|---|---|---|---|\n",
       "| Py | -0.01986882   |  0.051162285  |  0.12932753   |  0.16545072   |  0.26791466   |  0.13562661   | 0.009324648   |  0.02320601   |  0.06194967   |  0.07348786   | ...           |  0.038752187  |  0.043694027  |  7.398011e-02 |  0.125070484  |  0.070351082  |  0.104594965  |  0.193919483  |  0.060963631  |  0.010031424  |  0.007490962  |\n",
       "| Ace |  0.32239837   |  0.681525019  |  0.49206925   |  0.08824934   | -0.02103315   |  0.03178691   | 0.101814640   |  0.12159589   |  0.12888079   |  0.12092200   | ...           |  0.113576762  |  0.096139969  |  6.846189e-02 |  0.048694113  |  0.052007978  |  0.031900930  |  0.001243610  |  0.036473354  |  0.040870798  |  0.044598916  |\n",
       "| Anth |  0.00690426   | -0.061213146  | -0.11876708   |  0.14318982   |  0.32823445   |  0.67161524   | 0.960704515   |  0.89960123   |  0.15304079   |  0.05658048   | ...           |  0.013146575  |  0.006423891  | -1.881155e-07 | -0.003446487  |  0.003783866  |  0.005154708  |  0.023981022  |  0.030631692  |  0.023438387  |  0.027721888  |\n",
       "| Acy |  0.58417989   |  0.823188335  |  0.86526462   |  0.48137662   |  0.22321112   |  0.11854579   | 0.118900976   |  0.09319306   |  0.10523205   |  0.11234813   | ...           |  0.115678451  |  0.128722665  |  1.368175e-01 |  0.155886274  |  0.139053865  |  0.097300062  |  0.083749574  |  0.058971557  |  0.014871387  |  0.013253261  |\n",
       "| Chry |  0.22020513   |  0.214183357  |  0.17950716   |  0.12490871   |  0.11005657   |  0.12722903   | 0.188689554   |  0.29580682   |  0.37921669   |  0.47747247   | ...           |  0.098721229  |  0.081592343  |  6.840282e-02 |  0.074866521  |  0.043543211  |  0.018301151  |  0.011456374  |  0.010486057  |  0.008818607  |  0.007517705  |\n",
       "| Benz |  0.17743732   |  0.170711725  |  0.14576581   |  0.09717913   |  0.08666005   |  0.10985165   | 0.140834507   |  0.15666244   |  0.13820579   |  0.14411225   | ...           |  0.020492905  |  0.019926425  |  2.137696e-02 |  0.020065215  |  0.026393683  |  0.026103543  |  0.022204808  |  0.029695964  |  0.028429739  |  0.020402657  |\n",
       "| Fluora |  0.16595385   |  0.085304121  |  0.08827611   |  0.30239989   |  0.30446513   |  0.23079431   | 0.236575352   |  0.26348638   |  0.28079213   |  0.33418127   | ...           |  0.160994996  |  0.115205407  |  8.367019e-02 |  0.073167266  |  0.048477785  |  0.049677800  |  0.073340124  |  0.060489729  |  0.057425778  |  0.053869233  |\n",
       "| Fluore |  0.14498886   |  0.105527514  |  0.05952847   |  0.04460454   |  0.02201679   |  0.03678084   | 0.056460248   |  0.08252713   |  0.09418655   |  0.09975540   | ...           |  0.001523734  | -0.012112022  | -8.966677e-03 | -0.003744121  | -0.004084415  | -0.003799349  | -0.004979473  | -0.003498652  | -0.003050442  | -0.004240759  |\n",
       "| Nap |  0.50997837   | -0.013594981  | -0.25189075   | -0.14001066   | -0.07251315   | -0.04417309   | 0.017034640   | -0.05832411   | -0.06925921   | -0.05809800   | ...           | -0.074463238  | -0.043540031  | -2.775811e-02 | -0.009745887  | -0.006312022  | -0.001139070  | -0.003856390  | -0.012266646  | -0.012809202  | -0.016081084  |\n",
       "| Phen |  0.08066813   |  0.005026241  |  0.02435548   |  0.10047803   |  0.18267612   |  0.28891668   | 0.349403840   |  0.28640721   |  0.15468849   |  0.08942633   | ...           | -0.006671681  | -0.004243687  | -1.305302e-03 |  0.001218607  |  0.001466440  |  0.001148910  |  0.001595926  |  0.004161040  |  0.003778133  |  0.001275208  |\n",
       "\n"
      ],
      "text/plain": [
       "       x220        x225         x230        x235        x240        x245       \n",
       "Py     -0.01986882  0.051162285  0.12932753  0.16545072  0.26791466  0.13562661\n",
       "Ace     0.32239837  0.681525019  0.49206925  0.08824934 -0.02103315  0.03178691\n",
       "Anth    0.00690426 -0.061213146 -0.11876708  0.14318982  0.32823445  0.67161524\n",
       "Acy     0.58417989  0.823188335  0.86526462  0.48137662  0.22321112  0.11854579\n",
       "Chry    0.22020513  0.214183357  0.17950716  0.12490871  0.11005657  0.12722903\n",
       "Benz    0.17743732  0.170711725  0.14576581  0.09717913  0.08666005  0.10985165\n",
       "Fluora  0.16595385  0.085304121  0.08827611  0.30239989  0.30446513  0.23079431\n",
       "Fluore  0.14498886  0.105527514  0.05952847  0.04460454  0.02201679  0.03678084\n",
       "Nap     0.50997837 -0.013594981 -0.25189075 -0.14001066 -0.07251315 -0.04417309\n",
       "Phen    0.08066813  0.005026241  0.02435548  0.10047803  0.18267612  0.28891668\n",
       "       x250        x255        x260        x265        ... x305        \n",
       "Py     0.009324648  0.02320601  0.06194967  0.07348786 ...  0.038752187\n",
       "Ace    0.101814640  0.12159589  0.12888079  0.12092200 ...  0.113576762\n",
       "Anth   0.960704515  0.89960123  0.15304079  0.05658048 ...  0.013146575\n",
       "Acy    0.118900976  0.09319306  0.10523205  0.11234813 ...  0.115678451\n",
       "Chry   0.188689554  0.29580682  0.37921669  0.47747247 ...  0.098721229\n",
       "Benz   0.140834507  0.15666244  0.13820579  0.14411225 ...  0.020492905\n",
       "Fluora 0.236575352  0.26348638  0.28079213  0.33418127 ...  0.160994996\n",
       "Fluore 0.056460248  0.08252713  0.09418655  0.09975540 ...  0.001523734\n",
       "Nap    0.017034640 -0.05832411 -0.06925921 -0.05809800 ... -0.074463238\n",
       "Phen   0.349403840  0.28640721  0.15468849  0.08942633 ... -0.006671681\n",
       "       x310         x315          x320         x325         x330        \n",
       "Py      0.043694027  7.398011e-02  0.125070484  0.070351082  0.104594965\n",
       "Ace     0.096139969  6.846189e-02  0.048694113  0.052007978  0.031900930\n",
       "Anth    0.006423891 -1.881155e-07 -0.003446487  0.003783866  0.005154708\n",
       "Acy     0.128722665  1.368175e-01  0.155886274  0.139053865  0.097300062\n",
       "Chry    0.081592343  6.840282e-02  0.074866521  0.043543211  0.018301151\n",
       "Benz    0.019926425  2.137696e-02  0.020065215  0.026393683  0.026103543\n",
       "Fluora  0.115205407  8.367019e-02  0.073167266  0.048477785  0.049677800\n",
       "Fluore -0.012112022 -8.966677e-03 -0.003744121 -0.004084415 -0.003799349\n",
       "Nap    -0.043540031 -2.775811e-02 -0.009745887 -0.006312022 -0.001139070\n",
       "Phen   -0.004243687 -1.305302e-03  0.001218607  0.001466440  0.001148910\n",
       "       x335         x340         x345         x350        \n",
       "Py      0.193919483  0.060963631  0.010031424  0.007490962\n",
       "Ace     0.001243610  0.036473354  0.040870798  0.044598916\n",
       "Anth    0.023981022  0.030631692  0.023438387  0.027721888\n",
       "Acy     0.083749574  0.058971557  0.014871387  0.013253261\n",
       "Chry    0.011456374  0.010486057  0.008818607  0.007517705\n",
       "Benz    0.022204808  0.029695964  0.028429739  0.020402657\n",
       "Fluora  0.073340124  0.060489729  0.057425778  0.053869233\n",
       "Fluore -0.004979473 -0.003498652 -0.003050442 -0.004240759\n",
       "Nap    -0.003856390 -0.012266646 -0.012809202 -0.016081084\n",
       "Phen    0.001595926  0.004161040  0.003778133  0.001275208"
      ]
     },
     "metadata": {},
     "output_type": "display_data"
    }
   ],
   "source": [
    "# Estimating the coefficients of the model.\n",
    "modela3$coefficients"
   ]
  },
  {
   "cell_type": "code",
   "execution_count": 18,
   "id": "8603345c",
   "metadata": {},
   "outputs": [
    {
     "data": {
      "text/html": [
       "<table>\n",
       "<thead><tr><th></th><th scope=col>Py</th><th scope=col>Ace</th><th scope=col>Anth</th><th scope=col>Acy</th><th scope=col>Chry</th><th scope=col>Benz</th><th scope=col>Fluora</th><th scope=col>Fluore</th><th scope=col>Nap</th><th scope=col>Phen</th></tr></thead>\n",
       "<tbody>\n",
       "\t<tr><th scope=row>1</th><td>0.4549077  </td><td>0.1447793  </td><td> 0.11512053</td><td>0.16993843 </td><td>0.3414104  </td><td>1.8664816  </td><td>0.2040679  </td><td>0.593594585</td><td>0.08974833 </td><td>0.6441248  </td></tr>\n",
       "\t<tr><th scope=row>6</th><td>0.4911077  </td><td>0.2971919  </td><td> 0.04408487</td><td>0.05389204 </td><td>0.4170784  </td><td>2.3280755  </td><td>0.2105776  </td><td>0.735995202</td><td>0.14376767 </td><td>1.3097843  </td></tr>\n",
       "\t<tr><th scope=row>17</th><td>0.1271329  </td><td>0.1900362  </td><td>-0.01444155</td><td>0.05575390 </td><td>0.4778940  </td><td>1.1444007  </td><td>0.2148871  </td><td>0.672380589</td><td>0.06931710 </td><td>0.7262949  </td></tr>\n",
       "\t<tr><th scope=row>19</th><td>0.1264188  </td><td>0.2297517  </td><td> 0.13568509</td><td>0.05236866 </td><td>0.2865161  </td><td>2.6244347  </td><td>0.1685086  </td><td>0.007700859</td><td>0.01824669 </td><td>1.1227252  </td></tr>\n",
       "\t<tr><th scope=row>22</th><td>0.2174676  </td><td>0.2494077  </td><td> 0.11970557</td><td>0.05255585 </td><td>0.3674431  </td><td>0.6464693  </td><td>0.3572481  </td><td>0.685021584</td><td>0.16025605 </td><td>1.4134290  </td></tr>\n",
       "</tbody>\n",
       "</table>\n"
      ],
      "text/latex": [
       "\\begin{tabular}{r|llllllllll}\n",
       "  & Py & Ace & Anth & Acy & Chry & Benz & Fluora & Fluore & Nap & Phen\\\\\n",
       "\\hline\n",
       "\t1 & 0.4549077   & 0.1447793   &  0.11512053 & 0.16993843  & 0.3414104   & 1.8664816   & 0.2040679   & 0.593594585 & 0.08974833  & 0.6441248  \\\\\n",
       "\t6 & 0.4911077   & 0.2971919   &  0.04408487 & 0.05389204  & 0.4170784   & 2.3280755   & 0.2105776   & 0.735995202 & 0.14376767  & 1.3097843  \\\\\n",
       "\t17 & 0.1271329   & 0.1900362   & -0.01444155 & 0.05575390  & 0.4778940   & 1.1444007   & 0.2148871   & 0.672380589 & 0.06931710  & 0.7262949  \\\\\n",
       "\t19 & 0.1264188   & 0.2297517   &  0.13568509 & 0.05236866  & 0.2865161   & 2.6244347   & 0.1685086   & 0.007700859 & 0.01824669  & 1.1227252  \\\\\n",
       "\t22 & 0.2174676   & 0.2494077   &  0.11970557 & 0.05255585  & 0.3674431   & 0.6464693   & 0.3572481   & 0.685021584 & 0.16025605  & 1.4134290  \\\\\n",
       "\\end{tabular}\n"
      ],
      "text/markdown": [
       "\n",
       "| <!--/--> | Py | Ace | Anth | Acy | Chry | Benz | Fluora | Fluore | Nap | Phen |\n",
       "|---|---|---|---|---|---|---|---|---|---|---|\n",
       "| 1 | 0.4549077   | 0.1447793   |  0.11512053 | 0.16993843  | 0.3414104   | 1.8664816   | 0.2040679   | 0.593594585 | 0.08974833  | 0.6441248   |\n",
       "| 6 | 0.4911077   | 0.2971919   |  0.04408487 | 0.05389204  | 0.4170784   | 2.3280755   | 0.2105776   | 0.735995202 | 0.14376767  | 1.3097843   |\n",
       "| 17 | 0.1271329   | 0.1900362   | -0.01444155 | 0.05575390  | 0.4778940   | 1.1444007   | 0.2148871   | 0.672380589 | 0.06931710  | 0.7262949   |\n",
       "| 19 | 0.1264188   | 0.2297517   |  0.13568509 | 0.05236866  | 0.2865161   | 2.6244347   | 0.1685086   | 0.007700859 | 0.01824669  | 1.1227252   |\n",
       "| 22 | 0.2174676   | 0.2494077   |  0.11970557 | 0.05255585  | 0.3674431   | 0.6464693   | 0.3572481   | 0.685021584 | 0.16025605  | 1.4134290   |\n",
       "\n"
      ],
      "text/plain": [
       "   Py        Ace       Anth        Acy        Chry      Benz      Fluora   \n",
       "1  0.4549077 0.1447793  0.11512053 0.16993843 0.3414104 1.8664816 0.2040679\n",
       "6  0.4911077 0.2971919  0.04408487 0.05389204 0.4170784 2.3280755 0.2105776\n",
       "17 0.1271329 0.1900362 -0.01444155 0.05575390 0.4778940 1.1444007 0.2148871\n",
       "19 0.1264188 0.2297517  0.13568509 0.05236866 0.2865161 2.6244347 0.1685086\n",
       "22 0.2174676 0.2494077  0.11970557 0.05255585 0.3674431 0.6464693 0.3572481\n",
       "   Fluore      Nap        Phen     \n",
       "1  0.593594585 0.08974833 0.6441248\n",
       "6  0.735995202 0.14376767 1.3097843\n",
       "17 0.672380589 0.06931710 0.7262949\n",
       "19 0.007700859 0.01824669 1.1227252\n",
       "22 0.685021584 0.16025605 1.4134290"
      ]
     },
     "metadata": {},
     "output_type": "display_data"
    }
   ],
   "source": [
    "# The CLS model is currently made to predict X using Y, but we want to predict our Y (response variables).\n",
    "# Some manipulation is needed, to go from X=YA+E  to  B=A^T(AA^T)^-1:\n",
    "cls_model <- t(modela3$coefficients)%*%solve(modela3$coefficients%*%t(modela3$coefficients))\n",
    "\n",
    "# Since the predict() function requires a lm() input, the cls_model predictions needs to be calculated manually.\n",
    "# For this a variable x containing the test data is made (Those rows removed from the traning set).\n",
    "x <- as.matrix(pah3test[c(1,6,17,19,22),12:38])\n",
    "\n",
    "# Predictions are made using the x and beta_predict variables.\n",
    "cls_prediction <- x%*%cls_model\n",
    "cls_prediction"
   ]
  },
  {
   "cell_type": "code",
   "execution_count": 19,
   "id": "8a638d9c",
   "metadata": {},
   "outputs": [
    {
     "data": {
      "text/html": [
       "<dl class=dl-horizontal>\n",
       "\t<dt>Py</dt>\n",
       "\t\t<dd>0.00448512605719092</dd>\n",
       "\t<dt>Ace</dt>\n",
       "\t\t<dd>0.0125825227038654</dd>\n",
       "\t<dt>Anth</dt>\n",
       "\t\t<dd>0.0113214079697619</dd>\n",
       "\t<dt>Acy</dt>\n",
       "\t\t<dd>0.00176394123620277</dd>\n",
       "\t<dt>Chry</dt>\n",
       "\t\t<dd>0.00135519955854667</dd>\n",
       "\t<dt>Benz</dt>\n",
       "\t\t<dd>0.0220391616228199</dd>\n",
       "\t<dt>Fluora</dt>\n",
       "\t\t<dd>0.0173838742244353</dd>\n",
       "\t<dt>Fluore</dt>\n",
       "\t\t<dd>0.112300359392475</dd>\n",
       "\t<dt>Nap</dt>\n",
       "\t\t<dd>0.000413492446056952</dd>\n",
       "\t<dt>Phen</dt>\n",
       "\t\t<dd>0.0854047155417972</dd>\n",
       "</dl>\n"
      ],
      "text/latex": [
       "\\begin{description*}\n",
       "\\item[Py] 0.00448512605719092\n",
       "\\item[Ace] 0.0125825227038654\n",
       "\\item[Anth] 0.0113214079697619\n",
       "\\item[Acy] 0.00176394123620277\n",
       "\\item[Chry] 0.00135519955854667\n",
       "\\item[Benz] 0.0220391616228199\n",
       "\\item[Fluora] 0.0173838742244353\n",
       "\\item[Fluore] 0.112300359392475\n",
       "\\item[Nap] 0.000413492446056952\n",
       "\\item[Phen] 0.0854047155417972\n",
       "\\end{description*}\n"
      ],
      "text/markdown": [
       "Py\n",
       ":   0.00448512605719092Ace\n",
       ":   0.0125825227038654Anth\n",
       ":   0.0113214079697619Acy\n",
       ":   0.00176394123620277Chry\n",
       ":   0.00135519955854667Benz\n",
       ":   0.0220391616228199Fluora\n",
       ":   0.0173838742244353Fluore\n",
       ":   0.112300359392475Nap\n",
       ":   0.000413492446056952Phen\n",
       ":   0.0854047155417972\n",
       "\n"
      ],
      "text/plain": [
       "          Py          Ace         Anth          Acy         Chry         Benz \n",
       "0.0044851261 0.0125825227 0.0113214080 0.0017639412 0.0013551996 0.0220391616 \n",
       "      Fluora       Fluore          Nap         Phen \n",
       "0.0173838742 0.1123003594 0.0004134924 0.0854047155 "
      ]
     },
     "metadata": {},
     "output_type": "display_data"
    }
   ],
   "source": [
    "# Finding the MSE of the CLS prediction. \n",
    "MSE_CLS <- apply((pah3test[c(1,6,17,19,22),2:11] - cls_prediction)^2,2,mean)\n",
    "MSE_CLS"
   ]
  },
  {
   "cell_type": "markdown",
   "id": "2bdad005",
   "metadata": {},
   "source": [
    "# Comparison of predictors"
   ]
  },
  {
   "cell_type": "code",
   "execution_count": 23,
   "id": "3852d3d9",
   "metadata": {},
   "outputs": [
    {
     "data": {
      "text/html": [
       "<dl class=dl-horizontal>\n",
       "\t<dt>Py</dt>\n",
       "\t\t<dd>0.0178943789136734</dd>\n",
       "\t<dt>Ace</dt>\n",
       "\t\t<dd>0.00386840634376254</dd>\n",
       "\t<dt>Anth</dt>\n",
       "\t\t<dd>-0.0107990043049726</dd>\n",
       "\t<dt>Acy</dt>\n",
       "\t\t<dd>0.00473904427383475</dd>\n",
       "\t<dt>Chry</dt>\n",
       "\t\t<dd>0.002266056800713</dd>\n",
       "\t<dt>Benz</dt>\n",
       "\t\t<dd>0.00778695678439406</dd>\n",
       "\t<dt>Fluora</dt>\n",
       "\t\t<dd>-0.00504339157830041</dd>\n",
       "\t<dt>Fluore</dt>\n",
       "\t\t<dd>-0.0836627635097994</dd>\n",
       "\t<dt>Nap</dt>\n",
       "\t\t<dd>0.00687395218047742</dd>\n",
       "\t<dt>Phen</dt>\n",
       "\t\t<dd>-0.0530507421208509</dd>\n",
       "</dl>\n"
      ],
      "text/latex": [
       "\\begin{description*}\n",
       "\\item[Py] 0.0178943789136734\n",
       "\\item[Ace] 0.00386840634376254\n",
       "\\item[Anth] -0.0107990043049726\n",
       "\\item[Acy] 0.00473904427383475\n",
       "\\item[Chry] 0.002266056800713\n",
       "\\item[Benz] 0.00778695678439406\n",
       "\\item[Fluora] -0.00504339157830041\n",
       "\\item[Fluore] -0.0836627635097994\n",
       "\\item[Nap] 0.00687395218047742\n",
       "\\item[Phen] -0.0530507421208509\n",
       "\\end{description*}\n"
      ],
      "text/markdown": [
       "Py\n",
       ":   0.0178943789136734Ace\n",
       ":   0.00386840634376254Anth\n",
       ":   -0.0107990043049726Acy\n",
       ":   0.00473904427383475Chry\n",
       ":   0.002266056800713Benz\n",
       ":   0.00778695678439406Fluora\n",
       ":   -0.00504339157830041Fluore\n",
       ":   -0.0836627635097994Nap\n",
       ":   0.00687395218047742Phen\n",
       ":   -0.0530507421208509\n",
       "\n"
      ],
      "text/plain": [
       "          Py          Ace         Anth          Acy         Chry         Benz \n",
       " 0.017894379  0.003868406 -0.010799004  0.004739044  0.002266057  0.007786957 \n",
       "      Fluora       Fluore          Nap         Phen \n",
       "-0.005043392 -0.083662764  0.006873952 -0.053050742 "
      ]
     },
     "metadata": {},
     "output_type": "display_data"
    }
   ],
   "source": [
    "# Subtracting the two MSE from each other, to get an easy overview for comparison. \n",
    "# If there is a negative number, it means that the MLR performs better than CLS and vice versa.\n",
    "MSE_MLR - MSE_CLS"
   ]
  },
  {
   "cell_type": "markdown",
   "id": "9283475e",
   "metadata": {},
   "source": [
    "From the comparison of the mean squared errors, we can see that MLR performs better in 4 out of 10 cases to predict the response variable, where the CLS model performs better in the remaining 6 out of 10 cases.\n",
    "\n",
    "CLS performs better on predicting the Py, Ace, Acy, Chry, Benz and Nap responce variables.\n",
    "\n",
    "MLR performs better on prediction the Anth, Fluora, Fluore and Phen response variables.\n",
    "\n",
    "So, one model does not always perform better than the other. It depends on the response variable that is being predicted."
   ]
  },
  {
   "cell_type": "markdown",
   "id": "1ea51318",
   "metadata": {},
   "source": [
    "#### Why is this comparison of the accuracy of predictions reasonable? What are the problematic aspects of this comparison that might make the conclusions questionable?\n",
    "\n",
    "It it reasonable to compare the predictions, because they are compared using MSE. So even though they don't use same amount of X (Predictor variables), the MSE makes a useable comparison. The MSE tells us how close the regression line of our model is to the actual data. Or, how close our prediction is to the actual values in our data. \n",
    "\n",
    "It is a potential problem that the CLS model uses more predictors than the MLR model. It is possible (not assured) that some of the predictors that we filtered out in the MLR part, would have improved that model and made it equally good or better than the CLS model. This could however also hurt CLS, which due to deriving from the Beer-Lambert law always needs to use all predictor variables. In another case this might hurt the accuracy of the CLS, by introducing a lot of noise. This noise can potentially be limited in MLR, by removing noise predictors. \n"
   ]
  }
 ],
 "metadata": {
  "kernelspec": {
   "display_name": "R",
   "language": "R",
   "name": "ir"
  },
  "language_info": {
   "codemirror_mode": "r",
   "file_extension": ".r",
   "mimetype": "text/x-r-source",
   "name": "R",
   "pygments_lexer": "r",
   "version": "3.6.1"
  },
  "toc": {
   "base_numbering": 1,
   "nav_menu": {},
   "number_sections": true,
   "sideBar": true,
   "skip_h1_title": false,
   "title_cell": "Table of Contents",
   "title_sidebar": "Contents",
   "toc_cell": false,
   "toc_position": {},
   "toc_section_display": true,
   "toc_window_display": false
  }
 },
 "nbformat": 4,
 "nbformat_minor": 5
}
